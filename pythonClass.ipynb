{
 "cells": [
  {
   "cell_type": "code",
   "execution_count": 1,
   "id": "f271d08e",
   "metadata": {},
   "outputs": [
    {
     "name": "stdout",
     "output_type": "stream",
     "text": [
      "Hello World!\n"
     ]
    }
   ],
   "source": [
    "print(\"Hello World!\")"
   ]
  },
  {
   "cell_type": "code",
   "execution_count": 2,
   "id": "17ddee05",
   "metadata": {},
   "outputs": [
    {
     "name": "stdout",
     "output_type": "stream",
     "text": [
      "11\n"
     ]
    }
   ],
   "source": [
    "def add(a,b):\n",
    "    print(a+b)\n",
    "    \n",
    "add(5,6)\n"
   ]
  },
  {
   "cell_type": "code",
   "execution_count": 3,
   "id": "5cd70600",
   "metadata": {},
   "outputs": [
    {
     "name": "stdout",
     "output_type": "stream",
     "text": [
      "Esteban 43\n"
     ]
    }
   ],
   "source": [
    "\"\"\"\n",
    "Simple example with public & private args\n",
    "\"\"\"\n",
    "class MyMainClass(object):\n",
    "    def __init__(self, name, age):\n",
    "        self.name = name\n",
    "        self.age = age\n",
    "        self._salary = None\n",
    "        self._bugs = 0\n",
    "        \n",
    "    def code(self):\n",
    "        self._bugs += 1\n",
    "        \n",
    "    def get_salary(self):\n",
    "        return self._salary\n",
    "    \n",
    "    def set_salary(self, base_value):\n",
    "        self._salary = self._calculate(base_value)\n",
    "        \n",
    "    def _calculate(self, base_value):\n",
    "        if self._bugs < 10:\n",
    "            return base_value * 3\n",
    "        elif self._bugs < 100:\n",
    "            return base_value * 2\n",
    "        else:\n",
    "            return base_value\n",
    "        \n",
    "        \n",
    "M1 = MyMainClass(\"Esteban\", 43)\n",
    "print(M1.name, M1.age)\n"
   ]
  },
  {
   "cell_type": "code",
   "execution_count": 13,
   "id": "1a834cf8",
   "metadata": {},
   "outputs": [
    {
     "name": "stdout",
     "output_type": "stream",
     "text": [
      "0 bugs !\n",
      "1 bugs !\n",
      "2 bugs !\n",
      "3 bugs !\n",
      "4 bugs !\n",
      "5 bugs !\n",
      "6 bugs !\n",
      "7 bugs !\n",
      "8 bugs !\n",
      "9 bugs !\n",
      "10 bugs !\n",
      "11 bugs !\n",
      "6000\n"
     ]
    }
   ],
   "source": [
    "\"\"\"\n",
    "Class with getter & setter\n",
    "\"\"\"\n",
    "\n",
    "class MyMainClass(object):\n",
    "    def __init__(self, name, age):\n",
    "        self.name = name\n",
    "        self.age = age\n",
    "        self._salary = None\n",
    "        self._bugs = 0\n",
    "        \n",
    "    def code(self):\n",
    "        self._bugs += 1\n",
    "        \n",
    "    def getter_salary(self):\n",
    "        return self._salary\n",
    "    \n",
    "    def setter_salary(self, base_value):\n",
    "        self._salary = self._calculate(base_value)\n",
    "        \n",
    "    def _calculate(self, base_value):\n",
    "        if self._bugs < 10:\n",
    "            return base_value * 3\n",
    "        elif self._bugs < 100:\n",
    "            return base_value * 2\n",
    "        else:\n",
    "            return base_value\n",
    "\n",
    "M2 = MyMainClass(\"Esteban\", 43)\n",
    "\n",
    "for x in range(12):\n",
    "    print(x, \"bugs !\")\n",
    "    M1.code()\n",
    "\n",
    "M2.setter_salary(2000)\n",
    "print(M2.getter_salary())\n"
   ]
  },
  {
   "cell_type": "code",
   "execution_count": 24,
   "id": "c63d5d1d",
   "metadata": {},
   "outputs": [
    {
     "name": "stdout",
     "output_type": "stream",
     "text": [
      "Allan 33\n",
      "You are a Guy !\n"
     ]
    }
   ],
   "source": [
    "\"\"\"\n",
    "Static method\n",
    "\"\"\"\n",
    "\n",
    "class MyMainClass(object):\n",
    "    def __init__(self, name, age):\n",
    "        self.name = name\n",
    "        self.age = age\n",
    "        \n",
    "    def __repr__(self):\n",
    "        return f'Name: {self.name} age: {self.age} year(s)'\n",
    "\n",
    "    @staticmethod\n",
    "    def particularFunc(age):\n",
    "        if age < 20:\n",
    "            print(\"You are a young man!\")\n",
    "        elif age < 50:\n",
    "            print(\"You are a Guy !\")\n",
    "        else:\n",
    "            print(\"Too ooooold :)\")\n",
    "\n",
    "\n",
    "M1 = MyMainClass(\"Allan\", 33)\n",
    "\n",
    "print(M1.name, M1.age)\n",
    "\n",
    "M1.particularFunc(33)\n"
   ]
  },
  {
   "cell_type": "code",
   "execution_count": 34,
   "id": "7564ef00",
   "metadata": {},
   "outputs": [
    {
     "name": "stdout",
     "output_type": "stream",
     "text": [
      "Jill 34\n",
      "good\n",
      "\n",
      "\n",
      "Garfield 28\n",
      "well\n"
     ]
    }
   ],
   "source": [
    "\"\"\"\n",
    "Inheritance class & polymorphism\n",
    "\"\"\"\n",
    "\n",
    "class MyMainClass(object):\n",
    "    def __init__(self, name, age):\n",
    "        self.name = name\n",
    "        self.age = age\n",
    "        \n",
    "    def __repr__(self):\n",
    "        return f'Name: {self.name} age: {self.age} year(s)'\n",
    "\n",
    "class SoftwareDev(MyMainClass):\n",
    "    def __init__(self, name, age, motivation):\n",
    "        super().__init__(name, age)\n",
    "        self.motivation = motivation\n",
    "        \n",
    "    def __str__(self):\n",
    "        return f'{self.name} {self.age} & his coding...'\n",
    "    \n",
    "    def satisfyFunc(self):\n",
    "        print(\"His motivation is :\", self.motivation)\n",
    "        \n",
    "        \n",
    "class Designer(MyMainClass):\n",
    "    def __init__(self, name, age, talent):\n",
    "        super().__init__(name, age)\n",
    "        self.talent = talent\n",
    "        \n",
    "    def __str__(self):\n",
    "        return f'{self.name} {self.age} & his drawing...'\n",
    "    \n",
    "    def satisfyFunc(self):\n",
    "        print(\"His talent is :\", self.talent)\n",
    "        \n",
    "M2 = SoftwareDev(\"Jill\", 34, \"good\")\n",
    "print(M2.name, M2.age)\n",
    "print(M2.motivation)\n",
    "\n",
    "print(\"\\n\")\n",
    "\n",
    "M3 = Designer(\"Garfield\", 28, \"well\")\n",
    "print(M3.name, M3.age)\n",
    "print(M3.talent)\n"
   ]
  },
  {
   "cell_type": "code",
   "execution_count": null,
   "id": "f79feae5",
   "metadata": {},
   "outputs": [],
   "source": []
  }
 ],
 "metadata": {
  "kernelspec": {
   "display_name": "Python 3 (ipykernel)",
   "language": "python",
   "name": "python3"
  },
  "language_info": {
   "codemirror_mode": {
    "name": "ipython",
    "version": 3
   },
   "file_extension": ".py",
   "mimetype": "text/x-python",
   "name": "python",
   "nbconvert_exporter": "python",
   "pygments_lexer": "ipython3",
   "version": "3.9.12"
  }
 },
 "nbformat": 4,
 "nbformat_minor": 5
}
