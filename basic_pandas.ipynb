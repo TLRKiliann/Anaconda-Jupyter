{
 "cells": [
  {
   "cell_type": "code",
   "execution_count": 2,
   "id": "a27201a7",
   "metadata": {},
   "outputs": [],
   "source": [
    "import numpy as np\n",
    "import pandas as pd"
   ]
  },
  {
   "cell_type": "code",
   "execution_count": 3,
   "id": "c04b7c7a",
   "metadata": {},
   "outputs": [],
   "source": [
    "sdata = [{'a':11, 'b':22, 'c':19}, {'a':2, 'b':4, 'c':8}]"
   ]
  },
  {
   "cell_type": "code",
   "execution_count": 4,
   "id": "8b46665c",
   "metadata": {},
   "outputs": [],
   "source": [
    "table1 = pd.DataFrame(sdata)"
   ]
  },
  {
   "cell_type": "code",
   "execution_count": 5,
   "id": "55d75373",
   "metadata": {},
   "outputs": [
    {
     "name": "stdout",
     "output_type": "stream",
     "text": [
      "    a   b   c\n",
      "0  11  22  19\n",
      "1   2   4   8\n"
     ]
    }
   ],
   "source": [
    "print(table1)"
   ]
  },
  {
   "cell_type": "code",
   "execution_count": 6,
   "id": "41bec524",
   "metadata": {},
   "outputs": [
    {
     "name": "stdout",
     "output_type": "stream",
     "text": [
      "Another example\n"
     ]
    }
   ],
   "source": [
    "print(\"Another example\")"
   ]
  },
  {
   "cell_type": "code",
   "execution_count": 7,
   "id": "699e97d8",
   "metadata": {},
   "outputs": [],
   "source": [
    "A = np.array([1,2,3,4,5])\n",
    "B = np.array([5,4,3,2,1])\n",
    "C = [5]\n",
    "D = [6]"
   ]
  },
  {
   "cell_type": "code",
   "execution_count": 8,
   "id": "c06eb4ff",
   "metadata": {},
   "outputs": [],
   "source": [
    "_array = [A,B,C,D]"
   ]
  },
  {
   "cell_type": "code",
   "execution_count": 9,
   "id": "d09ee680",
   "metadata": {},
   "outputs": [],
   "source": [
    "data = pd.DataFrame(_array).T  # you have to transpose dataframe"
   ]
  },
  {
   "cell_type": "code",
   "execution_count": 10,
   "id": "971d937a",
   "metadata": {},
   "outputs": [
    {
     "name": "stdout",
     "output_type": "stream",
     "text": [
      "     0    1    2    3\n",
      "0  1.0  5.0  5.0  6.0\n",
      "1  2.0  4.0  NaN  NaN\n",
      "2  3.0  3.0  NaN  NaN\n",
      "3  4.0  2.0  NaN  NaN\n",
      "4  5.0  1.0  NaN  NaN\n"
     ]
    }
   ],
   "source": [
    "print(data)"
   ]
  },
  {
   "cell_type": "code",
   "execution_count": 11,
   "id": "f2015847",
   "metadata": {},
   "outputs": [
    {
     "name": "stdout",
     "output_type": "stream",
     "text": [
      "This example improved\n"
     ]
    }
   ],
   "source": [
    "print(\"This example improved\")"
   ]
  },
  {
   "cell_type": "code",
   "execution_count": 16,
   "id": "ff97e630",
   "metadata": {},
   "outputs": [],
   "source": [
    "E = np.array([1,2,3,4,5])\n",
    "F = np.array([5,4,3,2,1])\n",
    "G = np.array([5, 0, 0, 0, 0])\n",
    "H = np.array([6, 0, 0, 0, None])"
   ]
  },
  {
   "cell_type": "code",
   "execution_count": 17,
   "id": "b6ba10aa",
   "metadata": {},
   "outputs": [],
   "source": [
    "_secondArray = [E,F,G,H]"
   ]
  },
  {
   "cell_type": "code",
   "execution_count": 19,
   "id": "aaa31d5c",
   "metadata": {},
   "outputs": [],
   "source": [
    "secondData = pd.DataFrame(_secondArray).T"
   ]
  },
  {
   "cell_type": "code",
   "execution_count": 20,
   "id": "e2571f81",
   "metadata": {},
   "outputs": [
    {
     "name": "stdout",
     "output_type": "stream",
     "text": [
      "     0    1    2    3\n",
      "0  1.0  5.0  5.0  6.0\n",
      "1  2.0  4.0  0.0  0.0\n",
      "2  3.0  3.0  0.0  0.0\n",
      "3  4.0  2.0  0.0  0.0\n",
      "4  5.0  1.0  0.0  NaN\n"
     ]
    }
   ],
   "source": [
    "print(secondData)"
   ]
  },
  {
   "cell_type": "code",
   "execution_count": null,
   "id": "0c5a268f",
   "metadata": {},
   "outputs": [],
   "source": []
  }
 ],
 "metadata": {
  "kernelspec": {
   "display_name": "Python 3 (ipykernel)",
   "language": "python",
   "name": "python3"
  },
  "language_info": {
   "codemirror_mode": {
    "name": "ipython",
    "version": 3
   },
   "file_extension": ".py",
   "mimetype": "text/x-python",
   "name": "python",
   "nbconvert_exporter": "python",
   "pygments_lexer": "ipython3",
   "version": "3.9.12"
  }
 },
 "nbformat": 4,
 "nbformat_minor": 5
}
